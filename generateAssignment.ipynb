{
  "cells": [
    {
      "cell_type": "markdown",
      "metadata": {
        "id": "view-in-github",
        "colab_type": "text"
      },
      "source": [
        "<a href=\"https://colab.research.google.com/github/tiet-uta027/a01/blob/master/generateAssignment.ipynb\" target=\"_parent\"><img src=\"https://colab.research.google.com/assets/colab-badge.svg\" alt=\"Open In Colab\"/></a>"
      ]
    },
    {
      "cell_type": "code",
      "execution_count": 1,
      "id": "3b1d7b56-2bfb-48f8-82af-40c0be95f96e",
      "metadata": {
        "id": "3b1d7b56-2bfb-48f8-82af-40c0be95f96e",
        "outputId": "61a40886-1889-4a3d-9e8e-f5276d6436f9",
        "colab": {
          "base_uri": "https://localhost:8080/",
          "height": 35
        }
      },
      "outputs": [
        {
          "output_type": "execute_result",
          "data": {
            "text/plain": [
              "'Roll No: 102103817'"
            ],
            "application/vnd.google.colaboratory.intrinsic+json": {
              "type": "string"
            }
          },
          "metadata": {},
          "execution_count": 1
        }
      ],
      "source": [
        "# @title Student Details. { display-mode: \"form\" }\n",
        "\n",
        "rollno = '102103817' # @param {type: 'string'}\n",
        "f'Roll No: {rollno}'"
      ]
    },
    {
      "cell_type": "code",
      "source": [
        "!git clone 'https://github.com/tiet-uta027/a01.git'\n",
        "!cp -t . a01/*.txt"
      ],
      "metadata": {
        "id": "ugU86UY4O7z2",
        "outputId": "189ddd2b-2c39-40f1-f0b8-abc76a5db80e",
        "colab": {
          "base_uri": "https://localhost:8080/"
        }
      },
      "id": "ugU86UY4O7z2",
      "execution_count": null,
      "outputs": [
        {
          "output_type": "stream",
          "name": "stdout",
          "text": [
            "Cloning into 'a01'...\n",
            "remote: Enumerating objects: 14, done.\u001b[K\n",
            "remote: Counting objects: 100% (14/14), done.\u001b[K\n",
            "remote: Compressing objects: 100% (13/13), done.\u001b[K\n",
            "remote: Total 14 (delta 3), reused 8 (delta 0), pack-reused 0 (from 0)\u001b[K\n",
            "Receiving objects: 100% (14/14), 6.93 KiB | 2.31 MiB/s, done.\n",
            "Resolving deltas: 100% (3/3), done.\n"
          ]
        }
      ]
    },
    {
      "cell_type": "code",
      "execution_count": null,
      "id": "b688bf9c-6574-42c0-83b6-de8b95acb599",
      "metadata": {
        "id": "b688bf9c-6574-42c0-83b6-de8b95acb599"
      },
      "outputs": [],
      "source": [
        "import random, sys"
      ]
    },
    {
      "cell_type": "code",
      "execution_count": null,
      "id": "de16bbf4-7d4a-4f98-a8fe-c16055f6293c",
      "metadata": {
        "id": "de16bbf4-7d4a-4f98-a8fe-c16055f6293c"
      },
      "outputs": [],
      "source": [
        "DB='statements.txt'\n",
        "ROLLNOS='rollnos.txt'\n",
        "N=75\n",
        "SEED=0x70b3f08e\n",
        "ASSN=f'a01-{rollno}.csv'\n",
        "LSEP='\\n'\n",
        "FSEP='\\t'"
      ]
    },
    {
      "cell_type": "code",
      "execution_count": null,
      "id": "8f1d6f12-37bf-4128-ada8-557cb3d034ae",
      "metadata": {
        "id": "8f1d6f12-37bf-4128-ada8-557cb3d034ae"
      },
      "outputs": [],
      "source": [
        "with open(DB, 'r') as F :\n",
        "    rawData = [l.rstrip('\\n') for l in F.readlines()]\n",
        "with open(ROLLNOS, 'r') as F :\n",
        "    rollnosData = [l.rstrip('\\n') for l in F.readlines()]\n",
        "rollnosData.sort()\n",
        "rollnoIndex = rollnosData.index(rollno)"
      ]
    },
    {
      "cell_type": "code",
      "execution_count": null,
      "id": "712e3656-d39b-4bc6-954b-9ac28ab52883",
      "metadata": {
        "id": "712e3656-d39b-4bc6-954b-9ac28ab52883",
        "outputId": "ccb00096-0700-4fce-fcd4-fd211d3f2fb7",
        "colab": {
          "base_uri": "https://localhost:8080/"
        }
      },
      "outputs": [
        {
          "output_type": "stream",
          "name": "stdout",
          "text": [
            "seed: 2486995473\n"
          ]
        }
      ],
      "source": [
        "random.seed(SEED)\n",
        "bytes = random.randbytes(4*len(rollnosData))\n",
        "i=rollnoIndex\n",
        "seed = int.from_bytes(bytes[4*i:4*(i+1)], signed=False, byteorder=sys.byteorder)\n",
        "print(f'seed: {seed}')\n",
        "random.seed(seed)"
      ]
    },
    {
      "cell_type": "code",
      "execution_count": null,
      "id": "9a6f0fcd-5889-4d04-bb4a-f4d48aa8a153",
      "metadata": {
        "id": "9a6f0fcd-5889-4d04-bb4a-f4d48aa8a153"
      },
      "outputs": [],
      "source": [
        "assn = LSEP.join([\n",
        "    FSEP.join([str(i+1), rawData[j], ''])\n",
        "    for (i,j) in enumerate(random.sample(range(len(rawData)),N))\n",
        "])\n",
        "assnHeader = FSEP.join(['S.No.','Statement','Predicate'])\n",
        "with open(ASSN, 'w') as F :\n",
        "    F.write(assnHeader)\n",
        "    F.write(LSEP)\n",
        "    F.write(assn)"
      ]
    }
  ],
  "metadata": {
    "kernelspec": {
      "display_name": "Python 3 (ipykernel)",
      "language": "python",
      "name": "python3"
    },
    "language_info": {
      "codemirror_mode": {
        "name": "ipython",
        "version": 3
      },
      "file_extension": ".py",
      "mimetype": "text/x-python",
      "name": "python",
      "nbconvert_exporter": "python",
      "pygments_lexer": "ipython3",
      "version": "3.11.5"
    },
    "colab": {
      "provenance": [],
      "include_colab_link": true
    }
  },
  "nbformat": 4,
  "nbformat_minor": 5
}